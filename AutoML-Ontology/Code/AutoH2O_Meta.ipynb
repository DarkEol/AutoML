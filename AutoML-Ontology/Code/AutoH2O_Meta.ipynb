{
  "cells": [
    {
      "cell_type": "markdown",
      "metadata": {
        "id": "view-in-github",
        "colab_type": "text"
      },
      "source": [
        "<a href=\"https://colab.research.google.com/github/DarkEol/AutoML/blob/main/AutoML-Ontology/Code/AutoH2O_Meta.ipynb\" target=\"_parent\"><img src=\"https://colab.research.google.com/assets/colab-badge.svg\" alt=\"Open In Colab\"/></a>"
      ]
    },
    {
      "cell_type": "markdown",
      "metadata": {
        "id": "EEXTjqCNlRVQ"
      },
      "source": [
        "##script for extraction of meta-features from datasets along with information about algorithms selected by H2O AutoML"
      ]
    },
    {
      "cell_type": "code",
      "execution_count": null,
      "metadata": {
        "id": "ukA2RxtFaAwm"
      },
      "outputs": [],
      "source": [
        "!pip install h2o"
      ]
    },
    {
      "cell_type": "code",
      "execution_count": 3,
      "metadata": {
        "id": "BcHhbvs9aT3E"
      },
      "outputs": [],
      "source": [
        "import h2o\n",
        "import pandas as pd\n",
        "import numpy as np\n",
        "from sklearn.datasets import fetch_openml\n",
        "from sklearn import preprocessing\n",
        "from h2o.automl import H2OAutoML\n",
        "import sklearn.metrics"
      ]
    },
    {
      "cell_type": "code",
      "execution_count": null,
      "metadata": {
        "id": "CydhAM86lqyt"
      },
      "outputs": [],
      "source": [
        "h2o.init()"
      ]
    },
    {
      "cell_type": "code",
      "execution_count": 5,
      "metadata": {
        "id": "cxTEdfsRRkLx"
      },
      "outputs": [],
      "source": [
        "mfeatures = pd.DataFrame(columns=[\"ID\", \"Name\", \"NumberOfInstances\", \"NumberOfFeatures\", \"ManyInstances\", \"FewInstances\", \"ManyFeatures\", \"FewFeatures\", \"BinaryClass\",\t\"DateClass\", \"MissingClassValues\", \"NominalClass\", \"NumericClass\", \"NoClass\",\t\"UnaryClass\", \"EmptyNominalClass\", \"StringClass\", \"RelationalClass\", \"OnlyMulti-InstanceData\", \"BinaryAttributes\", \"DateAttributes\", \"EmptyNominalAttributes\", \"MissingValues\", \"NominalAttributes\", \"NumericAttributes\", \"UnaryAttibutes\",\t\"RelationalAttributes\",\t\"StringAttributes\", \"Algorithm\", \"Accuracy\"])\n",
        "empty_list = [0,0,0,0,0,0,0,0,0,0,0,0,0,0,0,0,0,0,0,0,0,0,0,0,0,0,0,0,0,0]\n",
        "i=0"
      ]
    },
    {
      "cell_type": "code",
      "execution_count": null,
      "metadata": {
        "id": "-v5lMPglmFYH"
      },
      "outputs": [],
      "source": [
        "#ID of datasets at OpenML for retrieval and meta-features extraction\n",
        "datasets_nums=[\n",
        "2, 3, 4, 5, 6, 7, 9, 10, 11, 12, 13, 14,\n",
        "15, 16, 18, 20, 21, 22, 23, 24, 25, 26, 27, 28, 29, 30,\n",
        "32, 33, 34, 35, 36, 37, 38, 39, 40, 41, 42, 43, 44, 46, 48,\n",
        "49, 50, 51, 52, 53, 54, 55, 56, 57, 58, 59, 60, 61, 62, 151,\n",
        "152, 155, 161, 163, 164, 181, 182, 184, 185, 187, 188, 194, 198, 201, 205,\n",
        "209, 301, 311, 312, 314, 316, 372, 373,\n",
        "#374] #exclude bad example!!\n",
        "375, 376, 377, 378, 380, 381,\n",
        "382, 427, 443, 444, 451, 452, 454, 455, 461, 463, 464, 465, 466, 467, 468,\n",
        "469, 470, 472, 473, 475, 476, 478, 479, 480, 481, 488, 498, 510, 516, 523,\n",
        "524, 688, 720, 722, 725, 727, 734, 735, 752, 761, 803, 807, 816, 819, 821,\n",
        "823, 833, 843, 846, 847, 871, 881, 901, 923, 959, 976, 977, 979, 980, 981,\n",
        "993, 1000, 1002, 1019, 1021, 1037, 1038, 1039, 1040, 1041, 1042, 1044, 1046, 1053, 1056,\n",
        "1069, 1116, 1119, 1120, 1169, 1217, 1236, 1240, 1459, 1460, 1471, 1475, 1476, 1478, 1481,\n",
        "1482, 1483, 1484, 1485, 1486, 1487, 1488, 1489, 1490, 1491, 1492, 1493, 1494, 1495, 1496,\n",
        "1497, 1498, 1501, 1502, 1503, 1504, 1505, 1506, 1507, 1508, 1509, 1510, 1511, 1512, 1513,\n",
        "1514, 1515, 1516, 1517, 1518, 1519, 1520, 1523, 1524, 6332\n",
        "]\n",
        "\n",
        "le = preprocessing.LabelEncoder()\n",
        "\n",
        "for dset_num in datasets_nums:\n",
        "  opml = fetch_openml(data_id=dset_num, as_frame=True, parser='auto')\n",
        "  data = opml.data\n",
        "\n",
        "  #preparing data for H2O\n",
        "  x=opml.feature_names\n",
        "  y=opml.target.name\n",
        "\n",
        "  if opml.frame[y].dtype=='category':\n",
        "    opml.frame[y] = le.fit_transform(opml.frame[y])\n",
        "\n",
        "  if pd.api.types.is_float_dtype(opml.frame[y]):\n",
        "    opml.frame[y] = le.fit_transform(opml.frame[y])\n",
        "\n",
        "  frame = h2o.H2OFrame(opml.frame)\n",
        "  train, test = frame.split_frame(ratios=[.75])\n",
        "\n",
        "  name = opml.details['name']\n",
        "  target = opml.target\n",
        "  shape = data.shape\n",
        "  n_instances = shape[0]\n",
        "  n_features = shape[1]\n",
        "  n_target_values = len(target.unique())\n",
        "\n",
        "  numeric_data = data.select_dtypes(include=[np.number])\n",
        "  not_numeric_data = data.select_dtypes(exclude=[np.number])\n",
        "  category_data = data.select_dtypes(include=['category'])\n",
        "  object_data = data.select_dtypes(include=[object])\n",
        "\n",
        "  mfeatures.loc[len(mfeatures)] = empty_list #adding row\n",
        "\n",
        "  mfeatures.at[i,'ID'] = dset_num\n",
        "  mfeatures.at[i,'Name'] = name\n",
        "  mfeatures.at[i,'NumberOfInstances'] = n_instances\n",
        "  mfeatures.at[i,'NumberOfFeatures'] = n_features\n",
        "\n",
        "#extracting the size of the dataset\n",
        "  if n_instances > 3200:\n",
        "    mfeatures.at[i,'ManyInstances'] = 1\n",
        "  else:\n",
        "    mfeatures.at[i,'FewInstances'] = 1\n",
        "\n",
        "  if n_features > 100:\n",
        "    mfeatures.at[i,'ManyFeatures'] = 1\n",
        "  else:\n",
        "    mfeatures.at[i, 'FewFeatures'] = 1\n",
        "\n",
        "#extracting information about the target class\n",
        "  if n_target_values == 2:\n",
        "    mfeatures.at[i, 'BinaryClass'] = 1\n",
        "\n",
        "  if pd.api.types.is_numeric_dtype(target) or target.str.isnumeric().any():\n",
        "    mfeatures.at[i, 'NumericClass'] = 1\n",
        "\n",
        "  if pd.api.types.is_string_dtype(target):\n",
        "    mfeatures.at[i, 'StringClass'] = 1\n",
        "\n",
        "  if target.dtype=='category':\n",
        "    mfeatures.at[i, 'NominalClass'] = 1\n",
        "\n",
        "#extracting information about dataset attributes\n",
        "  if numeric_data.shape[1] > 0:\n",
        "    mfeatures.at[i, 'NumericAttributes'] = 1\n",
        "\n",
        "  if category_data.shape[1] > 0:\n",
        "    mfeatures.at[i, 'NominalAttributes'] = 1\n",
        "\n",
        "  for fname in opml.feature_names:\n",
        "    if len(data[fname].unique())==2:\n",
        "      mfeatures.at[i, 'BinaryAttributes'] = 1\n",
        "\n",
        "    if len(data[fname].unique())==1:\n",
        "      mfeatures.at[i, 'UnaryAttibutes'] = 1\n",
        "\n",
        "      #binary_attributes = True\n",
        "    if data[fname].isna().sum() > 0:\n",
        "      mfeatures.at[i, 'MissingValues'] = 1\n",
        "\n",
        "    if not pd.api.types.is_numeric_dtype(data[fname]):\n",
        "      mfeatures.at[i, 'StringAttributes'] = 1\n",
        "\n",
        "  #preparing target column for autoML\n",
        "  if pd.api.types.is_integer_dtype(train[y]):\n",
        "    train[y] = train[y].asfactor()\n",
        "    test[y] = test[y].asfactor()\n",
        "    print(\"convert numeric target to categorial\")\n",
        "  else:\n",
        "    print(\"target remained the same\")\n",
        "\n",
        "  automl = h2o.automl.H2OAutoML(max_runtime_secs=600)\n",
        "\n",
        "  print(\"searching for model...\")\n",
        "  automl.train(x=x, y=y, training_frame=train)\n",
        "\n",
        "  algo = automl.leader.key\n",
        "  if n_target_values == 2: #metrics for binary classifications\n",
        "    perf = automl.leader.model_performance(test)\n",
        "    accuracy = perf.accuracy()[0][1]\n",
        "  else:\n",
        "    y_test = test[y].as_data_frame()\n",
        "    y_pred_0 = automl.leader.predict(test)  #calculate predictions\n",
        "    y_pred = y_pred_0['predict'].as_data_frame() #take from table only predictions\n",
        "    accuracy = sklearn.metrics.accuracy_score(y_test, y_pred)\n",
        "\n",
        "  print(\"algo: \",algo)\n",
        "  print(\"score: \",accuracy)\n",
        "  mfeatures.at[i, 'Algorithm'] = algo\n",
        "  mfeatures.at[i, 'Accuracy'] = accuracy\n",
        "\n",
        "  i+=1\n",
        "\n",
        "print(mfeatures[['Name','ManyInstances', 'FewInstances', 'ManyFeatures', 'FewFeatures', 'BinaryClass','NumericClass','StringClass','NominalClass','BinaryAttributes','MissingValues','NominalAttributes','NumericAttributes','StringAttributes','UnaryAttibutes']])"
      ]
    },
    {
      "cell_type": "code",
      "execution_count": null,
      "metadata": {
        "id": "R1dFL4V7wHXQ"
      },
      "outputs": [],
      "source": [
        "print(mfeatures[['Name','ManyInstances', 'FewInstances', 'ManyFeatures', 'FewFeatures', 'BinaryClass','NumericClass','StringClass','NominalClass','BinaryAttributes','MissingValues','NominalAttributes','NumericAttributes','StringAttributes','UnaryAttibutes','Algorithm','Accuracy']])\n",
        "print(mfeatures.shape)\n",
        "mfeatures.to_csv('features.csv')\n",
        "mfeatures.to_excel('features.xlsx')\n",
        "print(i)"
      ]
    }
  ],
  "metadata": {
    "colab": {
      "provenance": [],
      "authorship_tag": "ABX9TyNsZQD9YJcDXgjLIepMEIL1",
      "include_colab_link": true
    },
    "kernelspec": {
      "display_name": "Python 3",
      "name": "python3"
    },
    "language_info": {
      "pygments_lexer": "ipython3",
      "name": "python"
    }
  },
  "nbformat": 4,
  "nbformat_minor": 0
}
