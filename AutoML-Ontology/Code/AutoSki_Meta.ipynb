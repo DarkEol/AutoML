{
  "nbformat": 4,
  "nbformat_minor": 0,
  "metadata": {
    "colab": {
      "provenance": [],
      "mount_file_id": "1T3einOauzK2Y5dKsf2RQnda_VcKHor6h",
      "authorship_tag": "ABX9TyO75ZgX6kjdHLbhAfFcWnk7",
      "include_colab_link": true
    },
    "kernelspec": {
      "name": "python3",
      "display_name": "Python 3"
    },
    "language_info": {
      "pygments_lexer": "ipython3",
      "name": "python"
    }
  },
  "cells": [
    {
      "cell_type": "markdown",
      "metadata": {
        "id": "view-in-github",
        "colab_type": "text"
      },
      "source": [
        "<a href=\"https://colab.research.google.com/github/DarkEol/AutoML/blob/main/AutoML-Ontology/Code/AutoSki_Meta.ipynb\" target=\"_parent\"><img src=\"https://colab.research.google.com/assets/colab-badge.svg\" alt=\"Open In Colab\"/></a>"
      ]
    },
    {
      "cell_type": "markdown",
      "source": [
        "#script for extraction of meta-features from datasets along with information about algorithms selected by AutoSklearn"
      ],
      "metadata": {
        "id": "FRaL40V7xv3D"
      }
    },
    {
      "cell_type": "code",
      "source": [
        "#downgrade to install auto-sklearn\n",
        "!pip install Cython==0.29.36\n",
        "!pip uninstall scipy -y\n",
        "!pip install scipy==1.9\n",
        "!pip uninstall pyparsing -y\n",
        "!pip install pyparsing==2.4"
      ],
      "metadata": {
        "id": "79VQAyjn46iN"
      },
      "execution_count": null,
      "outputs": []
    },
    {
      "cell_type": "code",
      "source": [
        "!pip uninstall scikit_learn -y\n",
        "!pip install scikit-learn==0.24.2 --no-build-isolation\n",
        "!pip install auto-sklearn"
      ],
      "metadata": {
        "id": "l80VWeY6XDZn"
      },
      "execution_count": null,
      "outputs": []
    },
    {
      "cell_type": "code",
      "execution_count": 3,
      "metadata": {
        "id": "cnR3T0CcUDMX"
      },
      "outputs": [],
      "source": [
        "import autosklearn.classification\n",
        "import sklearn.model_selection\n",
        "import pandas as pd\n",
        "import numpy as np\n",
        "from sklearn.datasets import fetch_openml\n",
        "from sklearn import preprocessing"
      ]
    },
    {
      "cell_type": "code",
      "source": [
        "#create empty dataframe and empty row\n",
        "empty_list = [0,0,0,0,0,0,0,0,0,0,0,0,0,0,0,0,0,0,0,0,0,0,0,0,0,0,0,0,0]\n",
        "mfeatures = pd.DataFrame(columns=[\"Name\", \"NumberOfInstances\", \"NumberOfFeatures\", \"ManyInstances\", \"FewInstances\", \"ManyFeatures\", \"FewFeatures\", \"BinaryClass\",\t\"DateClass\", \"MissingClassValues\", \"NominalClass\", \"NumericClass\", \"NoClass\",\t\"UnaryClass\", \"EmptyNominalClass\", \"StringClass\", \"RelationalClass\", \"OnlyMulti-InstanceData\", \"BinaryAttributes\", \"DateAttributes\", \"EmptyNominalAttributes\", \"MissingValues\", \"NominalAttributes\", \"NumericAttributes\", \"UnaryAttibutes\",\t\"RelationalAttributes\",\t\"StringAttributes\", \"Algorithm\", \"Accuracy\"])\n",
        "i=0"
      ],
      "metadata": {
        "id": "j6PFEts2p6OU"
      },
      "execution_count": 4,
      "outputs": []
    },
    {
      "cell_type": "code",
      "source": [
        "if __name__ == '__main__':\n",
        "\n",
        "  #ID of datasets at OpenML for retrieval and meta-features extraction\n",
        "  datasets_nums = [13, 14, 15, 16, 18] #17 bad\n",
        "\n",
        "  for dset_num in datasets_nums:\n",
        "    opml = fetch_openml(data_id=dset_num)\n",
        "    X = opml.data\n",
        "    y = opml.target\n",
        "\n",
        "    name = opml.details['name']\n",
        "\n",
        "    shape = X.shape\n",
        "    n_instances = shape[0]\n",
        "    n_features = shape[1]\n",
        "    n_target_values = len(y.unique())\n",
        "\n",
        "    numeric_data = X.select_dtypes(include=[np.number])\n",
        "    not_numeric_data = X.select_dtypes(exclude=[np.number])\n",
        "    category_data = X.select_dtypes(include=['category'])\n",
        "\n",
        "    mfeatures.loc[len(mfeatures)] = empty_list #adding row\n",
        "\n",
        "    mfeatures.at[i,'Name'] = name\n",
        "    mfeatures.at[i,'NumberOfInstances'] = n_instances\n",
        "    mfeatures.at[i,'NumberOfFeatures'] = n_features\n",
        "\n",
        "    #storing info about the size of the dataset\n",
        "    if n_instances > 3200:\n",
        "      mfeatures.at[i,'ManyInstances'] = 1\n",
        "    else:\n",
        "      mfeatures.at[i,'FewInstances'] = 1\n",
        "\n",
        "    if n_features > 100:\n",
        "      mfeatures.at[i,'ManyFeatures'] = 1\n",
        "    else:\n",
        "      mfeatures.at[i, 'FewFeatures'] = 1\n",
        "\n",
        "    #storing information about the target class\n",
        "    if n_target_values == 2:\n",
        "      mfeatures.at[i, 'BinaryClass'] = 1\n",
        "      print(\"Binary\")\n",
        "    else:\n",
        "      print(\"MultiClass\")\n",
        "\n",
        "    if (y.dtype==\"float64\") or y.str.isnumeric().any():\n",
        "      mfeatures.at[i, 'NumericClass'] = 1\n",
        "      le = preprocessing.LabelEncoder()\n",
        "      y = le.fit_transform(y)\n",
        "    else:\n",
        "      mfeatures.at[i, 'StringClass'] = 1\n",
        "\n",
        "    if y.dtype=='category':\n",
        "      mfeatures.at[i, 'NominalClass'] = 1\n",
        "\n",
        "    #storing information about dataset attributes\n",
        "    if numeric_data.shape[1] > 0:\n",
        "      mfeatures.at[i, 'NumericAttributes'] = 1\n",
        "\n",
        "    if category_data.shape[1] > 0:\n",
        "      mfeatures.at[i, 'NominalAttributes'] = 1\n",
        "\n",
        "    for fname in opml.feature_names:\n",
        "      if len(X[fname].unique())==2:\n",
        "        mfeatures.at[i, 'BinaryAttributes'] = 1\n",
        "\n",
        "      if len(X[fname].unique())==1:\n",
        "        mfeatures.at[i, 'UnaryAttibutes'] = 1\n",
        "\n",
        "      if X[fname].isna().sum() > 0:\n",
        "        mfeatures.at[i, 'MissingValues'] = 1\n",
        "\n",
        "      if not pd.api.types.is_numeric_dtype(X[fname]):\n",
        "        mfeatures.at[i, 'StringAttributes'] = 1\n",
        "\n",
        "    X_train, X_test, y_train, y_test = sklearn.model_selection.train_test_split(X, y, test_size=0.20, random_state=1)\n",
        "\n",
        "    #AutoML settings\n",
        "    cls = autosklearn.classification.AutoSklearnClassifier(ensemble_class=None, time_left_for_this_task=600)\n",
        "\n",
        "    #running search for best model\n",
        "    print(\"searching for model\", i)\n",
        "    cls.fit(X_train, y_train)\n",
        "    print(\"model found\")\n",
        "\n",
        "    #info about found models\n",
        "    algo = cls.leaderboard().iat[0,2]\n",
        "    score = cls.score(X_test, y_test)\n",
        "\n",
        "    print(\"algo: \",algo)\n",
        "    print(\"score: \",score)\n",
        "    mfeatures.at[i, 'Algorithm'] = algo\n",
        "    mfeatures.at[i, 'Accuracy'] = score\n",
        "    i+=1"
      ],
      "metadata": {
        "id": "PLoWGRygUahE"
      },
      "execution_count": null,
      "outputs": []
    },
    {
      "cell_type": "code",
      "source": [
        "print(mfeatures[['Name','ManyInstances', 'FewInstances', 'ManyFeatures', 'FewFeatures', 'BinaryClass','NumericClass','StringClass','NominalClass','BinaryAttributes','MissingValues','NominalAttributes','NumericAttributes','StringAttributes','UnaryAttibutes','Algorithm','Accuracy']])\n",
        "print(mfeatures.shape)\n",
        "mfeatures.to_csv('features.csv')\n",
        "mfeatures.to_excel('features.xlsx')"
      ],
      "metadata": {
        "id": "JPi2xYOP0wbf"
      },
      "execution_count": null,
      "outputs": []
    }
  ]
}
