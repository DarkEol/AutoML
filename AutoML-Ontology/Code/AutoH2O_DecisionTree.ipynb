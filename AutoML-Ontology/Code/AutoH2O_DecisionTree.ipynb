{
  "nbformat": 4,
  "nbformat_minor": 0,
  "metadata": {
    "colab": {
      "provenance": [],
      "authorship_tag": "ABX9TyMPrj+MIFIHBI2OOt6snwUF",
      "include_colab_link": true
    },
    "kernelspec": {
      "name": "python3",
      "display_name": "Python 3"
    },
    "language_info": {
      "pygments_lexer": "ipython3",
      "name": "python"
    }
  },
  "cells": [
    {
      "cell_type": "markdown",
      "metadata": {
        "id": "view-in-github",
        "colab_type": "text"
      },
      "source": [
        "<a href=\"https://colab.research.google.com/github/DarkEol/AutoML/blob/main/AutoML-Ontology/Code/AutoH2O_DecisionTree.ipynb\" target=\"_parent\"><img src=\"https://colab.research.google.com/assets/colab-badge.svg\" alt=\"Open In Colab\"/></a>"
      ]
    },
    {
      "cell_type": "markdown",
      "source": [
        "##Script for building decision tree and ontology for AutoML-H2O from meta-features"
      ],
      "metadata": {
        "id": "clWaJ-md9ys6"
      }
    },
    {
      "cell_type": "code",
      "source": [
        "!pip install owlready2"
      ],
      "metadata": {
        "id": "QtycdUUBp76X"
      },
      "execution_count": null,
      "outputs": []
    },
    {
      "cell_type": "code",
      "execution_count": null,
      "metadata": {
        "id": "05xcOXVLVpJB"
      },
      "outputs": [],
      "source": [
        "import pandas as pd\n",
        "import graphviz\n",
        "import pickle\n",
        "from sklearn import tree\n",
        "from sklearn.tree import export_text\n",
        "from owlready2 import *"
      ]
    },
    {
      "cell_type": "code",
      "source": [
        "#building a decision tree from meta-features\n",
        "\n",
        "info = pd.read_csv('features-h2o-40-semi.csv', delimiter=';')\n",
        "\n",
        "#target is last attribute\n",
        "y = info[info.columns[info.columns.size-1]]\n",
        "X = info[info.columns.delete(info.columns.size-1)]\n",
        "\n",
        "clf = tree.DecisionTreeClassifier()\n",
        "clf = clf.fit(X, y)\n",
        "\n",
        "print(\"save decision tree into file\")\n",
        "file = open('decisionTree.txt','wb')\n",
        "pickle.dump(clf, file)\n",
        "file.close()\n",
        "print(\"file saved\")\n",
        "\n",
        "r = export_text(clf, feature_names=list(info.columns.values[:len(info.columns.values)-1]))\n",
        "print(r)"
      ],
      "metadata": {
        "id": "hur_rDpyV90G"
      },
      "execution_count": null,
      "outputs": []
    },
    {
      "cell_type": "code",
      "source": [
        "#traverse the tree and add the path to leaf to ontology\n",
        "\n",
        "#function that takes as input path from root to leaf-algorithm in decision tree and adds it into ontology\n",
        "def extendOntology(list_of_nodes):\n",
        "  algo = list_of_nodes.pop()\n",
        "  info_to_add = onto.H2OAlgorithm\n",
        "  for node in list_of_nodes:\n",
        "    info_to_add = info_to_add & onto.suitableFor.some(dict_features[node])\n",
        "  dict_algos[algo].is_a.append(info_to_add)\n",
        "\n",
        "#traversing the decision tree. clf - decision tree created from meta-features, node_id - current node (initially root), list_of_nodes - path (initially empty)\n",
        "def travelTree(clf, node_id, list_of_nodes):\n",
        "  left_id = clf.tree_.children_left[node_id]\n",
        "  right_id = clf.tree_.children_right[node_id]\n",
        "  feature = info.columns[clf.tree_.feature[node_id]]\n",
        "\n",
        "  if left_id==-1 and right_id==-1:\n",
        "    list2 = list_of_nodes.copy()\n",
        "    list2.append(clf.classes_[clf.tree_.value[node_id].argmax()])\n",
        "    extendOntology(list2)\n",
        "\n",
        "  if left_id!=-1:\n",
        "    list2 = list_of_nodes.copy()\n",
        "    list2.append(\"No\"+feature)\n",
        "    travelTree(clf, left_id, list2)\n",
        "  if right_id!=-1:\n",
        "    list2 = list_of_nodes.copy()\n",
        "    list2.append(feature)\n",
        "    travelTree(clf, right_id, list2)\n",
        "\n",
        "onto = get_ontology(\"ClassOntologyEmpty.owl\").load()\n",
        "\n",
        "#list of algorithms supported by H2O\n",
        "dict_algos = {\n",
        "'DeepLearning' : onto.Deep_Learning,\n",
        "'DRF' : onto.Distributed_Random_Forest,\n",
        "'GBM' : onto.Gradient_Boosting_Machine,\n",
        "'GLM' : onto.Generalized_Linear_Model,\n",
        "'StackedEnsemble' : onto.Stacked_Ensembles,\n",
        "'XGBoost' : onto.XGBoost }\n",
        "\n",
        "#list of considered features of dataset\n",
        "dict_features = {\n",
        "    'BinaryClass' : onto.BinaryClass,\n",
        "    'NoBinaryClass' : onto.NoBinaryClass,\n",
        "    'StringClass' : onto.StringClass,\n",
        "    'NoStringClass' : onto.NoStringClass,\n",
        "    'UnaryAttributes' : onto.UnaryAttributes,\n",
        "    'NoUnaryAttributes' : onto.NoUnaryAttributes,\n",
        "    'ManyFeatures' : onto.ManyFeatures,\n",
        "    'NoManyFeatures' : onto.FewFeatures,\n",
        "    'FewFeatures' : onto.FewFeatures,\n",
        "    'NoFewFeatures' : onto.ManyFeatures,\n",
        "    'ManyInstances' : onto.ManyInstances,\n",
        "    'FewInstances' : onto.FewInstances,\n",
        "    'NoManyInstances' : onto.FewInstances,\n",
        "    'NoFewInstances' : onto.ManyInstances,\n",
        "    'BinaryAttributes' : onto.BinaryAttributes,\n",
        "    'NoBinaryAttributes' : onto.NoBinaryAttributes,\n",
        "    'NumericAttributes' : onto.NumericAttributes,\n",
        "    'NoNumericAttributes' : onto.NoNumericAttributes,\n",
        "    'NominalAttributes' : onto.NominalAttributes,\n",
        "    'NoNominalAttributes' : onto.NoNominalAttributes,\n",
        "    'StringAttributes' : onto.StringAttributes,\n",
        "    'NoStringAttributes' : onto.NoStringAttributes,\n",
        "    'MissingValues' : onto.MissingValues,\n",
        "    'NoMissingValues' : onto.NoMissingValues,\n",
        "    'NumericClass' : onto.NumericClass,\n",
        "    'NoNumericClass' : onto.NoNumericClass\n",
        "    }\n",
        "\n",
        "travelTree(clf, 0, list())\n",
        "\n",
        "onto.save(file = \"ontoUpdated.owl\")"
      ],
      "metadata": {
        "id": "OHIOuAaXGhQo"
      },
      "execution_count": null,
      "outputs": []
    }
  ]
}
